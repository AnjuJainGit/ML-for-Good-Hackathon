{
  "nbformat": 4,
  "nbformat_minor": 0,
  "metadata": {
    "colab": {
      "name": "CrisisLoggerEDAAndSentimentAnalysis.ipynb",
      "provenance": [],
      "collapsed_sections": []
    },
    "kernelspec": {
      "name": "python3",
      "display_name": "Python 3"
    },
    "language_info": {
      "name": "python"
    }
  },
  "cells": [
    {
      "cell_type": "code",
      "metadata": {
        "colab": {
          "base_uri": "https://localhost:8080/"
        },
        "id": "D-d4shN1nGAU",
        "outputId": "c032c67a-480b-4bec-9976-38b5c4258b2f"
      },
      "source": [
        "!pip3 install nltk\n",
        "!pip install matplotlib\n",
        "!pip install seaborn\n",
        "import nltk\n",
        "nltk.download('punkt')\n",
        "nltk.download('averaged_perceptron_tagger')\n",
        "from nltk.tokenize import word_tokenize\n",
        "from nltk import pos_tag\n",
        "nltk.download('stopwords')\n",
        "from nltk.corpus import stopwords\n",
        "nltk.download('wordnet')\n",
        "from nltk.corpus import wordnet\n",
        "nltk.download('corpus')\n",
        "!pip install TextBlob\n",
        "!pip install vaderSentiment\n",
        "from vaderSentiment.vaderSentiment import SentimentIntensityAnalyzer\n",
        "nltk.download('sentiwordnet')\n",
        "from nltk.corpus import sentiwordnet as swn\n",
        "!pip install spacytextblob\n",
        "import spacy.cli\n",
        "spacy.cli.download(\"en_core_web_sm\")\n",
        "import en_core_web_sm\n",
        "!pip install spacytextblob\n",
        "\n"
      ],
      "execution_count": null,
      "outputs": [
        {
          "output_type": "stream",
          "name": "stdout",
          "text": [
            "Requirement already satisfied: nltk in /usr/local/lib/python3.7/dist-packages (3.2.5)\n",
            "Requirement already satisfied: six in /usr/local/lib/python3.7/dist-packages (from nltk) (1.15.0)\n",
            "Requirement already satisfied: matplotlib in /usr/local/lib/python3.7/dist-packages (3.2.2)\n",
            "Requirement already satisfied: cycler>=0.10 in /usr/local/lib/python3.7/dist-packages (from matplotlib) (0.11.0)\n",
            "Requirement already satisfied: kiwisolver>=1.0.1 in /usr/local/lib/python3.7/dist-packages (from matplotlib) (1.3.2)\n",
            "Requirement already satisfied: numpy>=1.11 in /usr/local/lib/python3.7/dist-packages (from matplotlib) (1.19.5)\n",
            "Requirement already satisfied: pyparsing!=2.0.4,!=2.1.2,!=2.1.6,>=2.0.1 in /usr/local/lib/python3.7/dist-packages (from matplotlib) (3.0.6)\n",
            "Requirement already satisfied: python-dateutil>=2.1 in /usr/local/lib/python3.7/dist-packages (from matplotlib) (2.8.2)\n",
            "Requirement already satisfied: six>=1.5 in /usr/local/lib/python3.7/dist-packages (from python-dateutil>=2.1->matplotlib) (1.15.0)\n",
            "Requirement already satisfied: seaborn in /usr/local/lib/python3.7/dist-packages (0.11.2)\n",
            "Requirement already satisfied: pandas>=0.23 in /usr/local/lib/python3.7/dist-packages (from seaborn) (1.1.5)\n",
            "Requirement already satisfied: numpy>=1.15 in /usr/local/lib/python3.7/dist-packages (from seaborn) (1.19.5)\n",
            "Requirement already satisfied: matplotlib>=2.2 in /usr/local/lib/python3.7/dist-packages (from seaborn) (3.2.2)\n",
            "Requirement already satisfied: scipy>=1.0 in /usr/local/lib/python3.7/dist-packages (from seaborn) (1.4.1)\n",
            "Requirement already satisfied: pyparsing!=2.0.4,!=2.1.2,!=2.1.6,>=2.0.1 in /usr/local/lib/python3.7/dist-packages (from matplotlib>=2.2->seaborn) (3.0.6)\n",
            "Requirement already satisfied: python-dateutil>=2.1 in /usr/local/lib/python3.7/dist-packages (from matplotlib>=2.2->seaborn) (2.8.2)\n",
            "Requirement already satisfied: cycler>=0.10 in /usr/local/lib/python3.7/dist-packages (from matplotlib>=2.2->seaborn) (0.11.0)\n",
            "Requirement already satisfied: kiwisolver>=1.0.1 in /usr/local/lib/python3.7/dist-packages (from matplotlib>=2.2->seaborn) (1.3.2)\n",
            "Requirement already satisfied: pytz>=2017.2 in /usr/local/lib/python3.7/dist-packages (from pandas>=0.23->seaborn) (2018.9)\n",
            "Requirement already satisfied: six>=1.5 in /usr/local/lib/python3.7/dist-packages (from python-dateutil>=2.1->matplotlib>=2.2->seaborn) (1.15.0)\n",
            "[nltk_data] Downloading package punkt to /root/nltk_data...\n",
            "[nltk_data]   Package punkt is already up-to-date!\n",
            "[nltk_data] Downloading package averaged_perceptron_tagger to\n",
            "[nltk_data]     /root/nltk_data...\n",
            "[nltk_data]   Package averaged_perceptron_tagger is already up-to-\n",
            "[nltk_data]       date!\n",
            "[nltk_data] Downloading package stopwords to /root/nltk_data...\n",
            "[nltk_data]   Package stopwords is already up-to-date!\n",
            "[nltk_data] Downloading package wordnet to /root/nltk_data...\n",
            "[nltk_data]   Package wordnet is already up-to-date!\n",
            "[nltk_data] Error loading corpus: Package 'corpus' not found in index\n",
            "Requirement already satisfied: TextBlob in /usr/local/lib/python3.7/dist-packages (0.15.3)\n",
            "Requirement already satisfied: nltk>=3.1 in /usr/local/lib/python3.7/dist-packages (from TextBlob) (3.2.5)\n",
            "Requirement already satisfied: six in /usr/local/lib/python3.7/dist-packages (from nltk>=3.1->TextBlob) (1.15.0)\n",
            "Requirement already satisfied: vaderSentiment in /usr/local/lib/python3.7/dist-packages (3.3.2)\n",
            "Requirement already satisfied: requests in /usr/local/lib/python3.7/dist-packages (from vaderSentiment) (2.23.0)\n",
            "Requirement already satisfied: urllib3!=1.25.0,!=1.25.1,<1.26,>=1.21.1 in /usr/local/lib/python3.7/dist-packages (from requests->vaderSentiment) (1.24.3)\n",
            "Requirement already satisfied: certifi>=2017.4.17 in /usr/local/lib/python3.7/dist-packages (from requests->vaderSentiment) (2021.10.8)\n",
            "Requirement already satisfied: chardet<4,>=3.0.2 in /usr/local/lib/python3.7/dist-packages (from requests->vaderSentiment) (3.0.4)\n",
            "Requirement already satisfied: idna<3,>=2.5 in /usr/local/lib/python3.7/dist-packages (from requests->vaderSentiment) (2.10)\n",
            "[nltk_data] Downloading package sentiwordnet to /root/nltk_data...\n",
            "[nltk_data]   Package sentiwordnet is already up-to-date!\n",
            "Requirement already satisfied: spacytextblob in /usr/local/lib/python3.7/dist-packages (3.0.1)\n",
            "Requirement already satisfied: spacy<4.0,>=3.0 in /usr/local/lib/python3.7/dist-packages (from spacytextblob) (3.2.0)\n",
            "Requirement already satisfied: textblob<0.16.0,>=0.15.3 in /usr/local/lib/python3.7/dist-packages (from spacytextblob) (0.15.3)\n",
            "Requirement already satisfied: preshed<3.1.0,>=3.0.2 in /usr/local/lib/python3.7/dist-packages (from spacy<4.0,>=3.0->spacytextblob) (3.0.6)\n",
            "Requirement already satisfied: pathy>=0.3.5 in /usr/local/lib/python3.7/dist-packages (from spacy<4.0,>=3.0->spacytextblob) (0.6.1)\n",
            "Requirement already satisfied: langcodes<4.0.0,>=3.2.0 in /usr/local/lib/python3.7/dist-packages (from spacy<4.0,>=3.0->spacytextblob) (3.3.0)\n",
            "Requirement already satisfied: wasabi<1.1.0,>=0.8.1 in /usr/local/lib/python3.7/dist-packages (from spacy<4.0,>=3.0->spacytextblob) (0.8.2)\n",
            "Requirement already satisfied: packaging>=20.0 in /usr/local/lib/python3.7/dist-packages (from spacy<4.0,>=3.0->spacytextblob) (21.3)\n",
            "Requirement already satisfied: catalogue<2.1.0,>=2.0.6 in /usr/local/lib/python3.7/dist-packages (from spacy<4.0,>=3.0->spacytextblob) (2.0.6)\n",
            "Requirement already satisfied: spacy-legacy<3.1.0,>=3.0.8 in /usr/local/lib/python3.7/dist-packages (from spacy<4.0,>=3.0->spacytextblob) (3.0.8)\n",
            "Requirement already satisfied: numpy>=1.15.0 in /usr/local/lib/python3.7/dist-packages (from spacy<4.0,>=3.0->spacytextblob) (1.19.5)\n",
            "Requirement already satisfied: spacy-loggers<2.0.0,>=1.0.0 in /usr/local/lib/python3.7/dist-packages (from spacy<4.0,>=3.0->spacytextblob) (1.0.1)\n",
            "Requirement already satisfied: jinja2 in /usr/local/lib/python3.7/dist-packages (from spacy<4.0,>=3.0->spacytextblob) (2.11.3)\n",
            "Requirement already satisfied: typing-extensions<4.0.0.0,>=3.7.4 in /usr/local/lib/python3.7/dist-packages (from spacy<4.0,>=3.0->spacytextblob) (3.10.0.2)\n",
            "Requirement already satisfied: setuptools in /usr/local/lib/python3.7/dist-packages (from spacy<4.0,>=3.0->spacytextblob) (57.4.0)\n",
            "Requirement already satisfied: pydantic!=1.8,!=1.8.1,<1.9.0,>=1.7.4 in /usr/local/lib/python3.7/dist-packages (from spacy<4.0,>=3.0->spacytextblob) (1.8.2)\n",
            "Requirement already satisfied: thinc<8.1.0,>=8.0.12 in /usr/local/lib/python3.7/dist-packages (from spacy<4.0,>=3.0->spacytextblob) (8.0.13)\n",
            "Requirement already satisfied: murmurhash<1.1.0,>=0.28.0 in /usr/local/lib/python3.7/dist-packages (from spacy<4.0,>=3.0->spacytextblob) (1.0.6)\n",
            "Requirement already satisfied: tqdm<5.0.0,>=4.38.0 in /usr/local/lib/python3.7/dist-packages (from spacy<4.0,>=3.0->spacytextblob) (4.62.3)\n",
            "Requirement already satisfied: srsly<3.0.0,>=2.4.1 in /usr/local/lib/python3.7/dist-packages (from spacy<4.0,>=3.0->spacytextblob) (2.4.2)\n",
            "Requirement already satisfied: cymem<2.1.0,>=2.0.2 in /usr/local/lib/python3.7/dist-packages (from spacy<4.0,>=3.0->spacytextblob) (2.0.6)\n",
            "Requirement already satisfied: blis<0.8.0,>=0.4.0 in /usr/local/lib/python3.7/dist-packages (from spacy<4.0,>=3.0->spacytextblob) (0.4.1)\n",
            "Requirement already satisfied: typer<0.5.0,>=0.3.0 in /usr/local/lib/python3.7/dist-packages (from spacy<4.0,>=3.0->spacytextblob) (0.4.0)\n",
            "Requirement already satisfied: requests<3.0.0,>=2.13.0 in /usr/local/lib/python3.7/dist-packages (from spacy<4.0,>=3.0->spacytextblob) (2.23.0)\n",
            "Requirement already satisfied: zipp>=0.5 in /usr/local/lib/python3.7/dist-packages (from catalogue<2.1.0,>=2.0.6->spacy<4.0,>=3.0->spacytextblob) (3.6.0)\n",
            "Requirement already satisfied: pyparsing!=3.0.5,>=2.0.2 in /usr/local/lib/python3.7/dist-packages (from packaging>=20.0->spacy<4.0,>=3.0->spacytextblob) (3.0.6)\n",
            "Requirement already satisfied: smart-open<6.0.0,>=5.0.0 in /usr/local/lib/python3.7/dist-packages (from pathy>=0.3.5->spacy<4.0,>=3.0->spacytextblob) (5.2.1)\n",
            "Requirement already satisfied: chardet<4,>=3.0.2 in /usr/local/lib/python3.7/dist-packages (from requests<3.0.0,>=2.13.0->spacy<4.0,>=3.0->spacytextblob) (3.0.4)\n",
            "Requirement already satisfied: certifi>=2017.4.17 in /usr/local/lib/python3.7/dist-packages (from requests<3.0.0,>=2.13.0->spacy<4.0,>=3.0->spacytextblob) (2021.10.8)\n",
            "Requirement already satisfied: idna<3,>=2.5 in /usr/local/lib/python3.7/dist-packages (from requests<3.0.0,>=2.13.0->spacy<4.0,>=3.0->spacytextblob) (2.10)\n",
            "Requirement already satisfied: urllib3!=1.25.0,!=1.25.1,<1.26,>=1.21.1 in /usr/local/lib/python3.7/dist-packages (from requests<3.0.0,>=2.13.0->spacy<4.0,>=3.0->spacytextblob) (1.24.3)\n",
            "Requirement already satisfied: nltk>=3.1 in /usr/local/lib/python3.7/dist-packages (from textblob<0.16.0,>=0.15.3->spacytextblob) (3.2.5)\n",
            "Requirement already satisfied: six in /usr/local/lib/python3.7/dist-packages (from nltk>=3.1->textblob<0.16.0,>=0.15.3->spacytextblob) (1.15.0)\n",
            "Requirement already satisfied: click<9.0.0,>=7.1.1 in /usr/local/lib/python3.7/dist-packages (from typer<0.5.0,>=0.3.0->spacy<4.0,>=3.0->spacytextblob) (7.1.2)\n",
            "Requirement already satisfied: MarkupSafe>=0.23 in /usr/local/lib/python3.7/dist-packages (from jinja2->spacy<4.0,>=3.0->spacytextblob) (2.0.1)\n",
            "\u001b[38;5;2m✔ Download and installation successful\u001b[0m\n",
            "You can now load the package via spacy.load('en_core_web_sm')\n",
            "Requirement already satisfied: spacytextblob in /usr/local/lib/python3.7/dist-packages (3.0.1)\n",
            "Requirement already satisfied: spacy<4.0,>=3.0 in /usr/local/lib/python3.7/dist-packages (from spacytextblob) (3.2.0)\n",
            "Requirement already satisfied: textblob<0.16.0,>=0.15.3 in /usr/local/lib/python3.7/dist-packages (from spacytextblob) (0.15.3)\n",
            "Requirement already satisfied: jinja2 in /usr/local/lib/python3.7/dist-packages (from spacy<4.0,>=3.0->spacytextblob) (2.11.3)\n",
            "Requirement already satisfied: catalogue<2.1.0,>=2.0.6 in /usr/local/lib/python3.7/dist-packages (from spacy<4.0,>=3.0->spacytextblob) (2.0.6)\n",
            "Requirement already satisfied: pydantic!=1.8,!=1.8.1,<1.9.0,>=1.7.4 in /usr/local/lib/python3.7/dist-packages (from spacy<4.0,>=3.0->spacytextblob) (1.8.2)\n",
            "Requirement already satisfied: preshed<3.1.0,>=3.0.2 in /usr/local/lib/python3.7/dist-packages (from spacy<4.0,>=3.0->spacytextblob) (3.0.6)\n",
            "Requirement already satisfied: thinc<8.1.0,>=8.0.12 in /usr/local/lib/python3.7/dist-packages (from spacy<4.0,>=3.0->spacytextblob) (8.0.13)\n",
            "Requirement already satisfied: pathy>=0.3.5 in /usr/local/lib/python3.7/dist-packages (from spacy<4.0,>=3.0->spacytextblob) (0.6.1)\n",
            "Requirement already satisfied: requests<3.0.0,>=2.13.0 in /usr/local/lib/python3.7/dist-packages (from spacy<4.0,>=3.0->spacytextblob) (2.23.0)\n",
            "Requirement already satisfied: spacy-legacy<3.1.0,>=3.0.8 in /usr/local/lib/python3.7/dist-packages (from spacy<4.0,>=3.0->spacytextblob) (3.0.8)\n",
            "Requirement already satisfied: cymem<2.1.0,>=2.0.2 in /usr/local/lib/python3.7/dist-packages (from spacy<4.0,>=3.0->spacytextblob) (2.0.6)\n",
            "Requirement already satisfied: blis<0.8.0,>=0.4.0 in /usr/local/lib/python3.7/dist-packages (from spacy<4.0,>=3.0->spacytextblob) (0.4.1)\n",
            "Requirement already satisfied: spacy-loggers<2.0.0,>=1.0.0 in /usr/local/lib/python3.7/dist-packages (from spacy<4.0,>=3.0->spacytextblob) (1.0.1)\n",
            "Requirement already satisfied: typing-extensions<4.0.0.0,>=3.7.4 in /usr/local/lib/python3.7/dist-packages (from spacy<4.0,>=3.0->spacytextblob) (3.10.0.2)\n",
            "Requirement already satisfied: numpy>=1.15.0 in /usr/local/lib/python3.7/dist-packages (from spacy<4.0,>=3.0->spacytextblob) (1.19.5)\n",
            "Requirement already satisfied: srsly<3.0.0,>=2.4.1 in /usr/local/lib/python3.7/dist-packages (from spacy<4.0,>=3.0->spacytextblob) (2.4.2)\n",
            "Requirement already satisfied: typer<0.5.0,>=0.3.0 in /usr/local/lib/python3.7/dist-packages (from spacy<4.0,>=3.0->spacytextblob) (0.4.0)\n",
            "Requirement already satisfied: wasabi<1.1.0,>=0.8.1 in /usr/local/lib/python3.7/dist-packages (from spacy<4.0,>=3.0->spacytextblob) (0.8.2)\n",
            "Requirement already satisfied: tqdm<5.0.0,>=4.38.0 in /usr/local/lib/python3.7/dist-packages (from spacy<4.0,>=3.0->spacytextblob) (4.62.3)\n",
            "Requirement already satisfied: murmurhash<1.1.0,>=0.28.0 in /usr/local/lib/python3.7/dist-packages (from spacy<4.0,>=3.0->spacytextblob) (1.0.6)\n",
            "Requirement already satisfied: setuptools in /usr/local/lib/python3.7/dist-packages (from spacy<4.0,>=3.0->spacytextblob) (57.4.0)\n",
            "Requirement already satisfied: packaging>=20.0 in /usr/local/lib/python3.7/dist-packages (from spacy<4.0,>=3.0->spacytextblob) (21.3)\n",
            "Requirement already satisfied: langcodes<4.0.0,>=3.2.0 in /usr/local/lib/python3.7/dist-packages (from spacy<4.0,>=3.0->spacytextblob) (3.3.0)\n",
            "Requirement already satisfied: zipp>=0.5 in /usr/local/lib/python3.7/dist-packages (from catalogue<2.1.0,>=2.0.6->spacy<4.0,>=3.0->spacytextblob) (3.6.0)\n",
            "Requirement already satisfied: pyparsing!=3.0.5,>=2.0.2 in /usr/local/lib/python3.7/dist-packages (from packaging>=20.0->spacy<4.0,>=3.0->spacytextblob) (3.0.6)\n",
            "Requirement already satisfied: smart-open<6.0.0,>=5.0.0 in /usr/local/lib/python3.7/dist-packages (from pathy>=0.3.5->spacy<4.0,>=3.0->spacytextblob) (5.2.1)\n",
            "Requirement already satisfied: chardet<4,>=3.0.2 in /usr/local/lib/python3.7/dist-packages (from requests<3.0.0,>=2.13.0->spacy<4.0,>=3.0->spacytextblob) (3.0.4)\n",
            "Requirement already satisfied: certifi>=2017.4.17 in /usr/local/lib/python3.7/dist-packages (from requests<3.0.0,>=2.13.0->spacy<4.0,>=3.0->spacytextblob) (2021.10.8)\n",
            "Requirement already satisfied: idna<3,>=2.5 in /usr/local/lib/python3.7/dist-packages (from requests<3.0.0,>=2.13.0->spacy<4.0,>=3.0->spacytextblob) (2.10)\n",
            "Requirement already satisfied: urllib3!=1.25.0,!=1.25.1,<1.26,>=1.21.1 in /usr/local/lib/python3.7/dist-packages (from requests<3.0.0,>=2.13.0->spacy<4.0,>=3.0->spacytextblob) (1.24.3)\n",
            "Requirement already satisfied: nltk>=3.1 in /usr/local/lib/python3.7/dist-packages (from textblob<0.16.0,>=0.15.3->spacytextblob) (3.2.5)\n",
            "Requirement already satisfied: six in /usr/local/lib/python3.7/dist-packages (from nltk>=3.1->textblob<0.16.0,>=0.15.3->spacytextblob) (1.15.0)\n",
            "Requirement already satisfied: click<9.0.0,>=7.1.1 in /usr/local/lib/python3.7/dist-packages (from typer<0.5.0,>=0.3.0->spacy<4.0,>=3.0->spacytextblob) (7.1.2)\n",
            "Requirement already satisfied: MarkupSafe>=0.23 in /usr/local/lib/python3.7/dist-packages (from jinja2->spacy<4.0,>=3.0->spacytextblob) (2.0.1)\n"
          ]
        }
      ]
    },
    {
      "cell_type": "code",
      "metadata": {
        "colab": {
          "base_uri": "https://localhost:8080/",
          "height": 414
        },
        "id": "GK6CT1Cnju49",
        "outputId": "1522745a-3699-4fbe-9ca8-8f691c32917f"
      },
      "source": [
        "import pandas as pd\n",
        "import matplotlib.pyplot as plt\n",
        "import seaborn as sns\n",
        "url = \"https://raw.githubusercontent.com/morganstanley/ML-for-Good-Hackathon/main/Data/CrisisLogger/crisislogger.csv\"\n",
        "df = pd.read_csv(url)\n",
        "df"
      ],
      "execution_count": null,
      "outputs": [
        {
          "output_type": "execute_result",
          "data": {
            "text/html": [
              "<div>\n",
              "<style scoped>\n",
              "    .dataframe tbody tr th:only-of-type {\n",
              "        vertical-align: middle;\n",
              "    }\n",
              "\n",
              "    .dataframe tbody tr th {\n",
              "        vertical-align: top;\n",
              "    }\n",
              "\n",
              "    .dataframe thead th {\n",
              "        text-align: right;\n",
              "    }\n",
              "</style>\n",
              "<table border=\"1\" class=\"dataframe\">\n",
              "  <thead>\n",
              "    <tr style=\"text-align: right;\">\n",
              "      <th></th>\n",
              "      <th>upload_id</th>\n",
              "      <th>transcriptions</th>\n",
              "    </tr>\n",
              "  </thead>\n",
              "  <tbody>\n",
              "    <tr>\n",
              "      <th>0</th>\n",
              "      <td>10</td>\n",
              "      <td>so high our experience so far has been a littl...</td>\n",
              "    </tr>\n",
              "    <tr>\n",
              "      <th>1</th>\n",
              "      <td>209</td>\n",
              "      <td>I'm not going to stay in my name for the anony...</td>\n",
              "    </tr>\n",
              "    <tr>\n",
              "      <th>2</th>\n",
              "      <td>216</td>\n",
              "      <td>so far I have been florentines now for about a...</td>\n",
              "    </tr>\n",
              "    <tr>\n",
              "      <th>3</th>\n",
              "      <td>222</td>\n",
              "      <td>it has actually been a very difficult. Trying ...</td>\n",
              "    </tr>\n",
              "    <tr>\n",
              "      <th>4</th>\n",
              "      <td>228</td>\n",
              "      <td>so this whole situation has been strange for u...</td>\n",
              "    </tr>\n",
              "    <tr>\n",
              "      <th>...</th>\n",
              "      <td>...</td>\n",
              "      <td>...</td>\n",
              "    </tr>\n",
              "    <tr>\n",
              "      <th>135</th>\n",
              "      <td>750</td>\n",
              "      <td>I am a parent of a 5th grader going into 6th g...</td>\n",
              "    </tr>\n",
              "    <tr>\n",
              "      <th>136</th>\n",
              "      <td>752</td>\n",
              "      <td>over 19 really impacted us because and it's no...</td>\n",
              "    </tr>\n",
              "    <tr>\n",
              "      <th>137</th>\n",
              "      <td>754</td>\n",
              "      <td>so today is May 20th and has been over for abo...</td>\n",
              "    </tr>\n",
              "    <tr>\n",
              "      <th>138</th>\n",
              "      <td>756</td>\n",
              "      <td>hi my name is divyansh not trying and I live i...</td>\n",
              "    </tr>\n",
              "    <tr>\n",
              "      <th>139</th>\n",
              "      <td>758</td>\n",
              "      <td>hello I am sharing some of my experience with ...</td>\n",
              "    </tr>\n",
              "  </tbody>\n",
              "</table>\n",
              "<p>140 rows × 2 columns</p>\n",
              "</div>"
            ],
            "text/plain": [
              "     upload_id                                     transcriptions\n",
              "0           10  so high our experience so far has been a littl...\n",
              "1          209  I'm not going to stay in my name for the anony...\n",
              "2          216  so far I have been florentines now for about a...\n",
              "3          222  it has actually been a very difficult. Trying ...\n",
              "4          228  so this whole situation has been strange for u...\n",
              "..         ...                                                ...\n",
              "135        750  I am a parent of a 5th grader going into 6th g...\n",
              "136        752  over 19 really impacted us because and it's no...\n",
              "137        754  so today is May 20th and has been over for abo...\n",
              "138        756  hi my name is divyansh not trying and I live i...\n",
              "139        758  hello I am sharing some of my experience with ...\n",
              "\n",
              "[140 rows x 2 columns]"
            ]
          },
          "metadata": {},
          "execution_count": 34
        }
      ]
    },
    {
      "cell_type": "markdown",
      "metadata": {
        "id": "2UlK1kdQMVU8"
      },
      "source": [
        "Check If there are any multiple transcripts per upload_id"
      ]
    },
    {
      "cell_type": "code",
      "metadata": {
        "colab": {
          "base_uri": "https://localhost:8080/",
          "height": 445
        },
        "id": "jAcg5hbiMbwe",
        "outputId": "c0f85d8e-966a-48f3-f8a3-22ed2a66e3bf"
      },
      "source": [
        "t = df.groupby(['upload_id']).count()\n",
        "t[t>1]"
      ],
      "execution_count": null,
      "outputs": [
        {
          "output_type": "execute_result",
          "data": {
            "text/html": [
              "<div>\n",
              "<style scoped>\n",
              "    .dataframe tbody tr th:only-of-type {\n",
              "        vertical-align: middle;\n",
              "    }\n",
              "\n",
              "    .dataframe tbody tr th {\n",
              "        vertical-align: top;\n",
              "    }\n",
              "\n",
              "    .dataframe thead th {\n",
              "        text-align: right;\n",
              "    }\n",
              "</style>\n",
              "<table border=\"1\" class=\"dataframe\">\n",
              "  <thead>\n",
              "    <tr style=\"text-align: right;\">\n",
              "      <th></th>\n",
              "      <th>transcriptions</th>\n",
              "    </tr>\n",
              "    <tr>\n",
              "      <th>upload_id</th>\n",
              "      <th></th>\n",
              "    </tr>\n",
              "  </thead>\n",
              "  <tbody>\n",
              "    <tr>\n",
              "      <th>10</th>\n",
              "      <td>NaN</td>\n",
              "    </tr>\n",
              "    <tr>\n",
              "      <th>209</th>\n",
              "      <td>NaN</td>\n",
              "    </tr>\n",
              "    <tr>\n",
              "      <th>216</th>\n",
              "      <td>NaN</td>\n",
              "    </tr>\n",
              "    <tr>\n",
              "      <th>222</th>\n",
              "      <td>NaN</td>\n",
              "    </tr>\n",
              "    <tr>\n",
              "      <th>228</th>\n",
              "      <td>NaN</td>\n",
              "    </tr>\n",
              "    <tr>\n",
              "      <th>...</th>\n",
              "      <td>...</td>\n",
              "    </tr>\n",
              "    <tr>\n",
              "      <th>750</th>\n",
              "      <td>NaN</td>\n",
              "    </tr>\n",
              "    <tr>\n",
              "      <th>752</th>\n",
              "      <td>NaN</td>\n",
              "    </tr>\n",
              "    <tr>\n",
              "      <th>754</th>\n",
              "      <td>NaN</td>\n",
              "    </tr>\n",
              "    <tr>\n",
              "      <th>756</th>\n",
              "      <td>NaN</td>\n",
              "    </tr>\n",
              "    <tr>\n",
              "      <th>758</th>\n",
              "      <td>NaN</td>\n",
              "    </tr>\n",
              "  </tbody>\n",
              "</table>\n",
              "<p>132 rows × 1 columns</p>\n",
              "</div>"
            ],
            "text/plain": [
              "           transcriptions\n",
              "upload_id                \n",
              "10                    NaN\n",
              "209                   NaN\n",
              "216                   NaN\n",
              "222                   NaN\n",
              "228                   NaN\n",
              "...                   ...\n",
              "750                   NaN\n",
              "752                   NaN\n",
              "754                   NaN\n",
              "756                   NaN\n",
              "758                   NaN\n",
              "\n",
              "[132 rows x 1 columns]"
            ]
          },
          "metadata": {},
          "execution_count": 35
        }
      ]
    },
    {
      "cell_type": "code",
      "metadata": {
        "colab": {
          "base_uri": "https://localhost:8080/",
          "height": 202
        },
        "id": "dUH1W7Icxopl",
        "outputId": "bbce2376-6931-42bc-f608-ec9adbbd6c6c"
      },
      "source": [
        "# Cleaning the text in the review column\n",
        "df['transcriptions'] = df['transcriptions'].replace('[^A-Za-z]+')\n",
        "df.head()"
      ],
      "execution_count": null,
      "outputs": [
        {
          "output_type": "execute_result",
          "data": {
            "text/html": [
              "<div>\n",
              "<style scoped>\n",
              "    .dataframe tbody tr th:only-of-type {\n",
              "        vertical-align: middle;\n",
              "    }\n",
              "\n",
              "    .dataframe tbody tr th {\n",
              "        vertical-align: top;\n",
              "    }\n",
              "\n",
              "    .dataframe thead th {\n",
              "        text-align: right;\n",
              "    }\n",
              "</style>\n",
              "<table border=\"1\" class=\"dataframe\">\n",
              "  <thead>\n",
              "    <tr style=\"text-align: right;\">\n",
              "      <th></th>\n",
              "      <th>upload_id</th>\n",
              "      <th>transcriptions</th>\n",
              "    </tr>\n",
              "  </thead>\n",
              "  <tbody>\n",
              "    <tr>\n",
              "      <th>0</th>\n",
              "      <td>10</td>\n",
              "      <td>so high our experience so far has been a littl...</td>\n",
              "    </tr>\n",
              "    <tr>\n",
              "      <th>1</th>\n",
              "      <td>209</td>\n",
              "      <td>I'm not going to stay in my name for the anony...</td>\n",
              "    </tr>\n",
              "    <tr>\n",
              "      <th>2</th>\n",
              "      <td>216</td>\n",
              "      <td>so far I have been florentines now for about a...</td>\n",
              "    </tr>\n",
              "    <tr>\n",
              "      <th>3</th>\n",
              "      <td>222</td>\n",
              "      <td>it has actually been a very difficult. Trying ...</td>\n",
              "    </tr>\n",
              "    <tr>\n",
              "      <th>4</th>\n",
              "      <td>228</td>\n",
              "      <td>so this whole situation has been strange for u...</td>\n",
              "    </tr>\n",
              "  </tbody>\n",
              "</table>\n",
              "</div>"
            ],
            "text/plain": [
              "   upload_id                                     transcriptions\n",
              "0         10  so high our experience so far has been a littl...\n",
              "1        209  I'm not going to stay in my name for the anony...\n",
              "2        216  so far I have been florentines now for about a...\n",
              "3        222  it has actually been a very difficult. Trying ...\n",
              "4        228  so this whole situation has been strange for u..."
            ]
          },
          "metadata": {},
          "execution_count": 36
        }
      ]
    },
    {
      "cell_type": "markdown",
      "metadata": {
        "id": "-Wb_9BjKlISm"
      },
      "source": [
        "Sentiment Analysis using TextBlob"
      ]
    },
    {
      "cell_type": "code",
      "metadata": {
        "colab": {
          "base_uri": "https://localhost:8080/"
        },
        "id": "8WzX1JNUyix-",
        "outputId": "a6be7d34-7362-4f09-8bb3-af62bd946bb6"
      },
      "source": [
        "from nltk import word_tokenize\n",
        "text = \"This is good\"\n",
        "tokens = word_tokenize(text)\n",
        "tokens "
      ],
      "execution_count": null,
      "outputs": [
        {
          "output_type": "execute_result",
          "data": {
            "text/plain": [
              "['This', 'is', 'good']"
            ]
          },
          "metadata": {},
          "execution_count": 37
        }
      ]
    },
    {
      "cell_type": "code",
      "metadata": {
        "colab": {
          "base_uri": "https://localhost:8080/",
          "height": 202
        },
        "id": "LBY08dSw0Igp",
        "outputId": "07aad0d7-f2f1-4a2d-ce7d-fa8eb7eb0497"
      },
      "source": [
        "# POS tagger dictionary\n",
        "pos_dict = {'J':wordnet.ADJ, 'V':wordnet.VERB, 'N':wordnet.NOUN, 'R':wordnet.ADV}\n",
        "def token_stop_pos(text):\n",
        "    tags = pos_tag(word_tokenize(text))\n",
        "    newlist = []\n",
        "    for word, tag in tags:\n",
        "        if word.lower() not in set(stopwords.words('english')):\n",
        "          newlist.append(tuple([word, pos_dict.get(tag[0])]))\n",
        "    return newlist\n",
        "\n",
        "df['POS tagged'] = df['transcriptions'].apply(token_stop_pos)\n",
        "df.head()"
      ],
      "execution_count": null,
      "outputs": [
        {
          "output_type": "execute_result",
          "data": {
            "text/html": [
              "<div>\n",
              "<style scoped>\n",
              "    .dataframe tbody tr th:only-of-type {\n",
              "        vertical-align: middle;\n",
              "    }\n",
              "\n",
              "    .dataframe tbody tr th {\n",
              "        vertical-align: top;\n",
              "    }\n",
              "\n",
              "    .dataframe thead th {\n",
              "        text-align: right;\n",
              "    }\n",
              "</style>\n",
              "<table border=\"1\" class=\"dataframe\">\n",
              "  <thead>\n",
              "    <tr style=\"text-align: right;\">\n",
              "      <th></th>\n",
              "      <th>upload_id</th>\n",
              "      <th>transcriptions</th>\n",
              "      <th>POS tagged</th>\n",
              "    </tr>\n",
              "  </thead>\n",
              "  <tbody>\n",
              "    <tr>\n",
              "      <th>0</th>\n",
              "      <td>10</td>\n",
              "      <td>so high our experience so far has been a littl...</td>\n",
              "      <td>[(high, a), (experience, n), (far, r), (little...</td>\n",
              "    </tr>\n",
              "    <tr>\n",
              "      <th>1</th>\n",
              "      <td>209</td>\n",
              "      <td>I'm not going to stay in my name for the anony...</td>\n",
              "      <td>[('m, v), (going, v), (stay, v), (name, n), (a...</td>\n",
              "    </tr>\n",
              "    <tr>\n",
              "      <th>2</th>\n",
              "      <td>216</td>\n",
              "      <td>so far I have been florentines now for about a...</td>\n",
              "      <td>[(far, r), (florentines, n), (month-and-a-half...</td>\n",
              "    </tr>\n",
              "    <tr>\n",
              "      <th>3</th>\n",
              "      <td>222</td>\n",
              "      <td>it has actually been a very difficult. Trying ...</td>\n",
              "      <td>[(actually, r), (difficult, a), (., None), (Tr...</td>\n",
              "    </tr>\n",
              "    <tr>\n",
              "      <th>4</th>\n",
              "      <td>228</td>\n",
              "      <td>so this whole situation has been strange for u...</td>\n",
              "      <td>[(whole, a), (situation, n), (strange, a), (us...</td>\n",
              "    </tr>\n",
              "  </tbody>\n",
              "</table>\n",
              "</div>"
            ],
            "text/plain": [
              "   upload_id  ...                                         POS tagged\n",
              "0         10  ...  [(high, a), (experience, n), (far, r), (little...\n",
              "1        209  ...  [('m, v), (going, v), (stay, v), (name, n), (a...\n",
              "2        216  ...  [(far, r), (florentines, n), (month-and-a-half...\n",
              "3        222  ...  [(actually, r), (difficult, a), (., None), (Tr...\n",
              "4        228  ...  [(whole, a), (situation, n), (strange, a), (us...\n",
              "\n",
              "[5 rows x 3 columns]"
            ]
          },
          "metadata": {},
          "execution_count": 38
        }
      ]
    },
    {
      "cell_type": "code",
      "metadata": {
        "colab": {
          "base_uri": "https://localhost:8080/",
          "height": 202
        },
        "id": "yFJrHhjW0zdZ",
        "outputId": "8cf05908-b294-4c37-ed62-4d31c5f1d51a"
      },
      "source": [
        "from nltk.stem import WordNetLemmatizer\n",
        "wordnet_lemmatizer = WordNetLemmatizer()\n",
        "def lemmatize(pos_data):\n",
        "    lemma_rew = \" \"\n",
        "    for word, pos in pos_data:\n",
        "      if not pos:\n",
        "        lemma = word\n",
        "        lemma_rew = lemma_rew + \" \" + lemma\n",
        "      else:\n",
        "        lemma = wordnet_lemmatizer.lemmatize(word, pos=pos)\n",
        "        lemma_rew = lemma_rew + \" \" + lemma\n",
        "    return lemma_rew\n",
        "\n",
        "df['Lemma'] = df['POS tagged'].apply(lemmatize)\n",
        "df.head()"
      ],
      "execution_count": null,
      "outputs": [
        {
          "output_type": "execute_result",
          "data": {
            "text/html": [
              "<div>\n",
              "<style scoped>\n",
              "    .dataframe tbody tr th:only-of-type {\n",
              "        vertical-align: middle;\n",
              "    }\n",
              "\n",
              "    .dataframe tbody tr th {\n",
              "        vertical-align: top;\n",
              "    }\n",
              "\n",
              "    .dataframe thead th {\n",
              "        text-align: right;\n",
              "    }\n",
              "</style>\n",
              "<table border=\"1\" class=\"dataframe\">\n",
              "  <thead>\n",
              "    <tr style=\"text-align: right;\">\n",
              "      <th></th>\n",
              "      <th>upload_id</th>\n",
              "      <th>transcriptions</th>\n",
              "      <th>POS tagged</th>\n",
              "      <th>Lemma</th>\n",
              "    </tr>\n",
              "  </thead>\n",
              "  <tbody>\n",
              "    <tr>\n",
              "      <th>0</th>\n",
              "      <td>10</td>\n",
              "      <td>so high our experience so far has been a littl...</td>\n",
              "      <td>[(high, a), (experience, n), (far, r), (little...</td>\n",
              "      <td>high experience far little bit difficult tee...</td>\n",
              "    </tr>\n",
              "    <tr>\n",
              "      <th>1</th>\n",
              "      <td>209</td>\n",
              "      <td>I'm not going to stay in my name for the anony...</td>\n",
              "      <td>[('m, v), (going, v), (stay, v), (name, n), (a...</td>\n",
              "      <td>'m go stay name anonymity mid-forties remote...</td>\n",
              "    </tr>\n",
              "    <tr>\n",
              "      <th>2</th>\n",
              "      <td>216</td>\n",
              "      <td>so far I have been florentines now for about a...</td>\n",
              "      <td>[(far, r), (florentines, n), (month-and-a-half...</td>\n",
              "      <td>far florentine month-and-a-half 's tough see...</td>\n",
              "    </tr>\n",
              "    <tr>\n",
              "      <th>3</th>\n",
              "      <td>222</td>\n",
              "      <td>it has actually been a very difficult. Trying ...</td>\n",
              "      <td>[(actually, r), (difficult, a), (., None), (Tr...</td>\n",
              "      <td>actually difficult . Trying get adjust chang...</td>\n",
              "    </tr>\n",
              "    <tr>\n",
              "      <th>4</th>\n",
              "      <td>228</td>\n",
              "      <td>so this whole situation has been strange for u...</td>\n",
              "      <td>[(whole, a), (situation, n), (strange, a), (us...</td>\n",
              "      <td>whole situation strange us feel lucky 've la...</td>\n",
              "    </tr>\n",
              "  </tbody>\n",
              "</table>\n",
              "</div>"
            ],
            "text/plain": [
              "   upload_id  ...                                              Lemma\n",
              "0         10  ...    high experience far little bit difficult tee...\n",
              "1        209  ...    'm go stay name anonymity mid-forties remote...\n",
              "2        216  ...    far florentine month-and-a-half 's tough see...\n",
              "3        222  ...    actually difficult . Trying get adjust chang...\n",
              "4        228  ...    whole situation strange us feel lucky 've la...\n",
              "\n",
              "[5 rows x 4 columns]"
            ]
          },
          "metadata": {},
          "execution_count": 39
        }
      ]
    },
    {
      "cell_type": "code",
      "metadata": {
        "colab": {
          "base_uri": "https://localhost:8080/",
          "height": 414
        },
        "id": "HWDVrNPd09ba",
        "outputId": "74f33f62-cb53-4629-f753-25e7e6fd40ba"
      },
      "source": [
        "df"
      ],
      "execution_count": null,
      "outputs": [
        {
          "output_type": "execute_result",
          "data": {
            "text/html": [
              "<div>\n",
              "<style scoped>\n",
              "    .dataframe tbody tr th:only-of-type {\n",
              "        vertical-align: middle;\n",
              "    }\n",
              "\n",
              "    .dataframe tbody tr th {\n",
              "        vertical-align: top;\n",
              "    }\n",
              "\n",
              "    .dataframe thead th {\n",
              "        text-align: right;\n",
              "    }\n",
              "</style>\n",
              "<table border=\"1\" class=\"dataframe\">\n",
              "  <thead>\n",
              "    <tr style=\"text-align: right;\">\n",
              "      <th></th>\n",
              "      <th>upload_id</th>\n",
              "      <th>transcriptions</th>\n",
              "      <th>POS tagged</th>\n",
              "      <th>Lemma</th>\n",
              "    </tr>\n",
              "  </thead>\n",
              "  <tbody>\n",
              "    <tr>\n",
              "      <th>0</th>\n",
              "      <td>10</td>\n",
              "      <td>so high our experience so far has been a littl...</td>\n",
              "      <td>[(high, a), (experience, n), (far, r), (little...</td>\n",
              "      <td>high experience far little bit difficult tee...</td>\n",
              "    </tr>\n",
              "    <tr>\n",
              "      <th>1</th>\n",
              "      <td>209</td>\n",
              "      <td>I'm not going to stay in my name for the anony...</td>\n",
              "      <td>[('m, v), (going, v), (stay, v), (name, n), (a...</td>\n",
              "      <td>'m go stay name anonymity mid-forties remote...</td>\n",
              "    </tr>\n",
              "    <tr>\n",
              "      <th>2</th>\n",
              "      <td>216</td>\n",
              "      <td>so far I have been florentines now for about a...</td>\n",
              "      <td>[(far, r), (florentines, n), (month-and-a-half...</td>\n",
              "      <td>far florentine month-and-a-half 's tough see...</td>\n",
              "    </tr>\n",
              "    <tr>\n",
              "      <th>3</th>\n",
              "      <td>222</td>\n",
              "      <td>it has actually been a very difficult. Trying ...</td>\n",
              "      <td>[(actually, r), (difficult, a), (., None), (Tr...</td>\n",
              "      <td>actually difficult . Trying get adjust chang...</td>\n",
              "    </tr>\n",
              "    <tr>\n",
              "      <th>4</th>\n",
              "      <td>228</td>\n",
              "      <td>so this whole situation has been strange for u...</td>\n",
              "      <td>[(whole, a), (situation, n), (strange, a), (us...</td>\n",
              "      <td>whole situation strange us feel lucky 've la...</td>\n",
              "    </tr>\n",
              "    <tr>\n",
              "      <th>...</th>\n",
              "      <td>...</td>\n",
              "      <td>...</td>\n",
              "      <td>...</td>\n",
              "      <td>...</td>\n",
              "    </tr>\n",
              "    <tr>\n",
              "      <th>135</th>\n",
              "      <td>750</td>\n",
              "      <td>I am a parent of a 5th grader going into 6th g...</td>\n",
              "      <td>[(parent, n), (5th, a), (grader, n), (going, v...</td>\n",
              "      <td>parent 5th grader go 6th grade son autism 75...</td>\n",
              "    </tr>\n",
              "    <tr>\n",
              "      <th>136</th>\n",
              "      <td>752</td>\n",
              "      <td>over 19 really impacted us because and it's no...</td>\n",
              "      <td>[(19, None), (really, r), (impacted, a), (us, ...</td>\n",
              "      <td>19 really impacted us 's shutdown school out...</td>\n",
              "    </tr>\n",
              "    <tr>\n",
              "      <th>137</th>\n",
              "      <td>754</td>\n",
              "      <td>so today is May 20th and has been over for abo...</td>\n",
              "      <td>[(today, n), (May, n), (20th, None), (two, Non...</td>\n",
              "      <td>today May 20th two month two make knock two ...</td>\n",
              "    </tr>\n",
              "    <tr>\n",
              "      <th>138</th>\n",
              "      <td>756</td>\n",
              "      <td>hi my name is divyansh not trying and I live i...</td>\n",
              "      <td>[(hi, n), (name, n), (divyansh, a), (trying, v...</td>\n",
              "      <td>hi name divyansh try live New York City want...</td>\n",
              "    </tr>\n",
              "    <tr>\n",
              "      <th>139</th>\n",
              "      <td>758</td>\n",
              "      <td>hello I am sharing some of my experience with ...</td>\n",
              "      <td>[(hello, n), (sharing, v), (experience, n), (C...</td>\n",
              "      <td>hello share experience Colvin . good time re...</td>\n",
              "    </tr>\n",
              "  </tbody>\n",
              "</table>\n",
              "<p>140 rows × 4 columns</p>\n",
              "</div>"
            ],
            "text/plain": [
              "     upload_id  ...                                              Lemma\n",
              "0           10  ...    high experience far little bit difficult tee...\n",
              "1          209  ...    'm go stay name anonymity mid-forties remote...\n",
              "2          216  ...    far florentine month-and-a-half 's tough see...\n",
              "3          222  ...    actually difficult . Trying get adjust chang...\n",
              "4          228  ...    whole situation strange us feel lucky 've la...\n",
              "..         ...  ...                                                ...\n",
              "135        750  ...    parent 5th grader go 6th grade son autism 75...\n",
              "136        752  ...    19 really impacted us 's shutdown school out...\n",
              "137        754  ...    today May 20th two month two make knock two ...\n",
              "138        756  ...    hi name divyansh try live New York City want...\n",
              "139        758  ...    hello share experience Colvin . good time re...\n",
              "\n",
              "[140 rows x 4 columns]"
            ]
          },
          "metadata": {},
          "execution_count": 40
        }
      ]
    },
    {
      "cell_type": "code",
      "metadata": {
        "id": "qoOaLCw71hNk"
      },
      "source": [
        "# function to analyze the sentiment/polarity\n",
        "def analysis(score):\n",
        "    if score < 0:\n",
        "        return 'Negative'\n",
        "    elif score == 0:\n",
        "        return 'Neutral'\n",
        "    else:\n",
        "        return 'Positive'"
      ],
      "execution_count": null,
      "outputs": []
    },
    {
      "cell_type": "code",
      "metadata": {
        "id": "e1rPalJm1q0m"
      },
      "source": [
        "# function to calculate subjectivity\n",
        "def getSubjectivity(review):\n",
        "    return TextBlob(review).sentiment.subjectivity\n",
        "# function to calculate polarity\n",
        "def getPolarity(review):\n",
        "    return TextBlob(review).sentiment.polarity"
      ],
      "execution_count": null,
      "outputs": []
    },
    {
      "cell_type": "code",
      "metadata": {
        "colab": {
          "base_uri": "https://localhost:8080/",
          "height": 35
        },
        "id": "viets-zEwj6S",
        "outputId": "5f884eb6-9ced-4f61-991d-be18cf7bfb81"
      },
      "source": [
        "from textblob import TextBlob\n",
        "test=TextBlob(\"This is good test data\").sentiment\n",
        "testpolar = analysis(test.polarity)\n",
        "testpolar"
      ],
      "execution_count": null,
      "outputs": [
        {
          "output_type": "execute_result",
          "data": {
            "application/vnd.google.colaboratory.intrinsic+json": {
              "type": "string"
            },
            "text/plain": [
              "'Positive'"
            ]
          },
          "metadata": {},
          "execution_count": 43
        }
      ]
    },
    {
      "cell_type": "code",
      "metadata": {
        "colab": {
          "base_uri": "https://localhost:8080/",
          "height": 35
        },
        "id": "xo48Gq9BYpm1",
        "outputId": "d62539dc-ac4e-4f8d-f591-074272e08644"
      },
      "source": [
        "from textblob import TextBlob\n",
        "test=TextBlob(\"This is bad test data\").sentiment\n",
        "testpolar = analysis(test.polarity)\n",
        "testpolar"
      ],
      "execution_count": null,
      "outputs": [
        {
          "output_type": "execute_result",
          "data": {
            "application/vnd.google.colaboratory.intrinsic+json": {
              "type": "string"
            },
            "text/plain": [
              "'Negative'"
            ]
          },
          "metadata": {},
          "execution_count": 44
        }
      ]
    },
    {
      "cell_type": "code",
      "metadata": {
        "colab": {
          "base_uri": "https://localhost:8080/",
          "height": 35
        },
        "id": "cBX__Z1_k-57",
        "outputId": "0c35fcec-1b8a-4762-ea79-a602a6d492a4"
      },
      "source": [
        "from textblob import TextBlob\n",
        "test=TextBlob(\"This is not bad test data\").sentiment\n",
        "testpolar = analysis(test.polarity)\n",
        "testpolar"
      ],
      "execution_count": null,
      "outputs": [
        {
          "output_type": "execute_result",
          "data": {
            "application/vnd.google.colaboratory.intrinsic+json": {
              "type": "string"
            },
            "text/plain": [
              "'Positive'"
            ]
          },
          "metadata": {},
          "execution_count": 45
        }
      ]
    },
    {
      "cell_type": "code",
      "metadata": {
        "colab": {
          "base_uri": "https://localhost:8080/",
          "height": 414
        },
        "id": "oR2tWPKq2JH5",
        "outputId": "2dec0627-6908-4fe3-ea7e-c5bf7f8adc70"
      },
      "source": [
        "df = pd.DataFrame(df)\n",
        "df['Polarity'] = df['Lemma'].apply(getPolarity) \n",
        "df['AnalysisTextBlob'] = df['Polarity'].apply(analysis)\n",
        "df"
      ],
      "execution_count": null,
      "outputs": [
        {
          "output_type": "execute_result",
          "data": {
            "text/html": [
              "<div>\n",
              "<style scoped>\n",
              "    .dataframe tbody tr th:only-of-type {\n",
              "        vertical-align: middle;\n",
              "    }\n",
              "\n",
              "    .dataframe tbody tr th {\n",
              "        vertical-align: top;\n",
              "    }\n",
              "\n",
              "    .dataframe thead th {\n",
              "        text-align: right;\n",
              "    }\n",
              "</style>\n",
              "<table border=\"1\" class=\"dataframe\">\n",
              "  <thead>\n",
              "    <tr style=\"text-align: right;\">\n",
              "      <th></th>\n",
              "      <th>upload_id</th>\n",
              "      <th>transcriptions</th>\n",
              "      <th>POS tagged</th>\n",
              "      <th>Lemma</th>\n",
              "      <th>Polarity</th>\n",
              "      <th>AnalysisTextBlob</th>\n",
              "    </tr>\n",
              "  </thead>\n",
              "  <tbody>\n",
              "    <tr>\n",
              "      <th>0</th>\n",
              "      <td>10</td>\n",
              "      <td>so high our experience so far has been a littl...</td>\n",
              "      <td>[(high, a), (experience, n), (far, r), (little...</td>\n",
              "      <td>high experience far little bit difficult tee...</td>\n",
              "      <td>-0.003229</td>\n",
              "      <td>Negative</td>\n",
              "    </tr>\n",
              "    <tr>\n",
              "      <th>1</th>\n",
              "      <td>209</td>\n",
              "      <td>I'm not going to stay in my name for the anony...</td>\n",
              "      <td>[('m, v), (going, v), (stay, v), (name, n), (a...</td>\n",
              "      <td>'m go stay name anonymity mid-forties remote...</td>\n",
              "      <td>0.062419</td>\n",
              "      <td>Positive</td>\n",
              "    </tr>\n",
              "    <tr>\n",
              "      <th>2</th>\n",
              "      <td>216</td>\n",
              "      <td>so far I have been florentines now for about a...</td>\n",
              "      <td>[(far, r), (florentines, n), (month-and-a-half...</td>\n",
              "      <td>far florentine month-and-a-half 's tough see...</td>\n",
              "      <td>0.002892</td>\n",
              "      <td>Positive</td>\n",
              "    </tr>\n",
              "    <tr>\n",
              "      <th>3</th>\n",
              "      <td>222</td>\n",
              "      <td>it has actually been a very difficult. Trying ...</td>\n",
              "      <td>[(actually, r), (difficult, a), (., None), (Tr...</td>\n",
              "      <td>actually difficult . Trying get adjust chang...</td>\n",
              "      <td>0.192857</td>\n",
              "      <td>Positive</td>\n",
              "    </tr>\n",
              "    <tr>\n",
              "      <th>4</th>\n",
              "      <td>228</td>\n",
              "      <td>so this whole situation has been strange for u...</td>\n",
              "      <td>[(whole, a), (situation, n), (strange, a), (us...</td>\n",
              "      <td>whole situation strange us feel lucky 've la...</td>\n",
              "      <td>0.011815</td>\n",
              "      <td>Positive</td>\n",
              "    </tr>\n",
              "    <tr>\n",
              "      <th>...</th>\n",
              "      <td>...</td>\n",
              "      <td>...</td>\n",
              "      <td>...</td>\n",
              "      <td>...</td>\n",
              "      <td>...</td>\n",
              "      <td>...</td>\n",
              "    </tr>\n",
              "    <tr>\n",
              "      <th>135</th>\n",
              "      <td>750</td>\n",
              "      <td>I am a parent of a 5th grader going into 6th g...</td>\n",
              "      <td>[(parent, n), (5th, a), (grader, n), (going, v...</td>\n",
              "      <td>parent 5th grader go 6th grade son autism 75...</td>\n",
              "      <td>0.152721</td>\n",
              "      <td>Positive</td>\n",
              "    </tr>\n",
              "    <tr>\n",
              "      <th>136</th>\n",
              "      <td>752</td>\n",
              "      <td>over 19 really impacted us because and it's no...</td>\n",
              "      <td>[(19, None), (really, r), (impacted, a), (us, ...</td>\n",
              "      <td>19 really impacted us 's shutdown school out...</td>\n",
              "      <td>0.055411</td>\n",
              "      <td>Positive</td>\n",
              "    </tr>\n",
              "    <tr>\n",
              "      <th>137</th>\n",
              "      <td>754</td>\n",
              "      <td>so today is May 20th and has been over for abo...</td>\n",
              "      <td>[(today, n), (May, n), (20th, None), (two, Non...</td>\n",
              "      <td>today May 20th two month two make knock two ...</td>\n",
              "      <td>0.092363</td>\n",
              "      <td>Positive</td>\n",
              "    </tr>\n",
              "    <tr>\n",
              "      <th>138</th>\n",
              "      <td>756</td>\n",
              "      <td>hi my name is divyansh not trying and I live i...</td>\n",
              "      <td>[(hi, n), (name, n), (divyansh, a), (trying, v...</td>\n",
              "      <td>hi name divyansh try live New York City want...</td>\n",
              "      <td>0.179040</td>\n",
              "      <td>Positive</td>\n",
              "    </tr>\n",
              "    <tr>\n",
              "      <th>139</th>\n",
              "      <td>758</td>\n",
              "      <td>hello I am sharing some of my experience with ...</td>\n",
              "      <td>[(hello, n), (sharing, v), (experience, n), (C...</td>\n",
              "      <td>hello share experience Colvin . good time re...</td>\n",
              "      <td>0.550000</td>\n",
              "      <td>Positive</td>\n",
              "    </tr>\n",
              "  </tbody>\n",
              "</table>\n",
              "<p>140 rows × 6 columns</p>\n",
              "</div>"
            ],
            "text/plain": [
              "     upload_id  ... AnalysisTextBlob\n",
              "0           10  ...         Negative\n",
              "1          209  ...         Positive\n",
              "2          216  ...         Positive\n",
              "3          222  ...         Positive\n",
              "4          228  ...         Positive\n",
              "..         ...  ...              ...\n",
              "135        750  ...         Positive\n",
              "136        752  ...         Positive\n",
              "137        754  ...         Positive\n",
              "138        756  ...         Positive\n",
              "139        758  ...         Positive\n",
              "\n",
              "[140 rows x 6 columns]"
            ]
          },
          "metadata": {},
          "execution_count": 46
        }
      ]
    },
    {
      "cell_type": "code",
      "metadata": {
        "colab": {
          "base_uri": "https://localhost:8080/"
        },
        "id": "9-T7Fbqd3a-T",
        "outputId": "b0d558ca-6b42-4a60-ae18-4903a63637df"
      },
      "source": [
        "tb_counts = df.AnalysisTextBlob.value_counts()\n",
        "\n",
        "tb_counts"
      ],
      "execution_count": null,
      "outputs": [
        {
          "output_type": "execute_result",
          "data": {
            "text/plain": [
              "Positive    108\n",
              "Negative     26\n",
              "Neutral       6\n",
              "Name: AnalysisTextBlob, dtype: int64"
            ]
          },
          "metadata": {},
          "execution_count": 47
        }
      ]
    },
    {
      "cell_type": "markdown",
      "metadata": {
        "id": "7W5VOymAlZJX"
      },
      "source": [
        "Sentiment Analysis using VADER\n",
        "\n",
        "VADER stands for Valence Aware Dictionary and Sentiment Reasoner. Vader sentiment tells if the statement is positive or negative along with the intensity of emotion.\n",
        "\n",
        "The sum of pos, neg, neu intensities give 1. Compound ranges from -1 to 1 and is the metric used to draw the overall sentiment.\n",
        "positive if compound >= 0.5\n",
        "neutral if -0.5 < compound < 0.5\n",
        "negative if -0.5 >= compound"
      ]
    },
    {
      "cell_type": "code",
      "metadata": {
        "id": "lj4mVfDIljyk"
      },
      "source": [
        "# function to calculate vader sentiment\n",
        "def vadersentimentanalysis(review):\n",
        "    vs = analyzer.polarity_scores(review)\n",
        "    return vs['compound']\n",
        "    \n",
        "# function to analyse\n",
        "def vader_analysis(compound):\n",
        "    if compound >= 0.5:\n",
        "        return 'Positive'\n",
        "    elif compound <= -0.5 :\n",
        "        return 'Negative'\n",
        "    else:\n",
        "        return 'Neutral'"
      ],
      "execution_count": null,
      "outputs": []
    },
    {
      "cell_type": "code",
      "metadata": {
        "colab": {
          "base_uri": "https://localhost:8080/"
        },
        "id": "zDZAGOFrmSED",
        "outputId": "a8f32eac-0793-4afc-e344-d5ec492c2bcb"
      },
      "source": [
        "analyzer = SentimentIntensityAnalyzer()\n",
        "vztest = analyzer.polarity_scores(\"I hate horror\")\n",
        "vztest\n"
      ],
      "execution_count": null,
      "outputs": [
        {
          "output_type": "execute_result",
          "data": {
            "text/plain": [
              "{'compound': -0.8126, 'neg': 0.881, 'neu': 0.119, 'pos': 0.0}"
            ]
          },
          "metadata": {},
          "execution_count": 49
        }
      ]
    },
    {
      "cell_type": "code",
      "metadata": {
        "colab": {
          "base_uri": "https://localhost:8080/"
        },
        "id": "Qwr2zoRunZ1a",
        "outputId": "54acbf7a-3a5f-4c48-c76e-8e8cd3aafc82"
      },
      "source": [
        "c = vadersentimentanalysis(\"I hate horror\")\n",
        "print(vader_analysis(c))"
      ],
      "execution_count": null,
      "outputs": [
        {
          "output_type": "stream",
          "name": "stdout",
          "text": [
            "Negative\n"
          ]
        }
      ]
    },
    {
      "cell_type": "code",
      "metadata": {
        "colab": {
          "base_uri": "https://localhost:8080/",
          "height": 202
        },
        "id": "ipa2Z8jQmGPw",
        "outputId": "44086d06-9ed6-4051-a7d4-132d39533c42"
      },
      "source": [
        "analyzer = SentimentIntensityAnalyzer()\n",
        "df['VaderSentiment'] = df['Lemma'].apply(vadersentimentanalysis)\n",
        "df['VaderAnalysis'] = df['VaderSentiment'].apply(vader_analysis)\n",
        "df.head()\n"
      ],
      "execution_count": null,
      "outputs": [
        {
          "output_type": "execute_result",
          "data": {
            "text/html": [
              "<div>\n",
              "<style scoped>\n",
              "    .dataframe tbody tr th:only-of-type {\n",
              "        vertical-align: middle;\n",
              "    }\n",
              "\n",
              "    .dataframe tbody tr th {\n",
              "        vertical-align: top;\n",
              "    }\n",
              "\n",
              "    .dataframe thead th {\n",
              "        text-align: right;\n",
              "    }\n",
              "</style>\n",
              "<table border=\"1\" class=\"dataframe\">\n",
              "  <thead>\n",
              "    <tr style=\"text-align: right;\">\n",
              "      <th></th>\n",
              "      <th>upload_id</th>\n",
              "      <th>transcriptions</th>\n",
              "      <th>POS tagged</th>\n",
              "      <th>Lemma</th>\n",
              "      <th>Polarity</th>\n",
              "      <th>AnalysisTextBlob</th>\n",
              "      <th>VaderSentiment</th>\n",
              "      <th>VaderAnalysis</th>\n",
              "    </tr>\n",
              "  </thead>\n",
              "  <tbody>\n",
              "    <tr>\n",
              "      <th>0</th>\n",
              "      <td>10</td>\n",
              "      <td>so high our experience so far has been a littl...</td>\n",
              "      <td>[(high, a), (experience, n), (far, r), (little...</td>\n",
              "      <td>high experience far little bit difficult tee...</td>\n",
              "      <td>-0.003229</td>\n",
              "      <td>Negative</td>\n",
              "      <td>0.9643</td>\n",
              "      <td>Positive</td>\n",
              "    </tr>\n",
              "    <tr>\n",
              "      <th>1</th>\n",
              "      <td>209</td>\n",
              "      <td>I'm not going to stay in my name for the anony...</td>\n",
              "      <td>[('m, v), (going, v), (stay, v), (name, n), (a...</td>\n",
              "      <td>'m go stay name anonymity mid-forties remote...</td>\n",
              "      <td>0.062419</td>\n",
              "      <td>Positive</td>\n",
              "      <td>0.6720</td>\n",
              "      <td>Positive</td>\n",
              "    </tr>\n",
              "    <tr>\n",
              "      <th>2</th>\n",
              "      <td>216</td>\n",
              "      <td>so far I have been florentines now for about a...</td>\n",
              "      <td>[(far, r), (florentines, n), (month-and-a-half...</td>\n",
              "      <td>far florentine month-and-a-half 's tough see...</td>\n",
              "      <td>0.002892</td>\n",
              "      <td>Positive</td>\n",
              "      <td>0.9631</td>\n",
              "      <td>Positive</td>\n",
              "    </tr>\n",
              "    <tr>\n",
              "      <th>3</th>\n",
              "      <td>222</td>\n",
              "      <td>it has actually been a very difficult. Trying ...</td>\n",
              "      <td>[(actually, r), (difficult, a), (., None), (Tr...</td>\n",
              "      <td>actually difficult . Trying get adjust chang...</td>\n",
              "      <td>0.192857</td>\n",
              "      <td>Positive</td>\n",
              "      <td>-0.5423</td>\n",
              "      <td>Negative</td>\n",
              "    </tr>\n",
              "    <tr>\n",
              "      <th>4</th>\n",
              "      <td>228</td>\n",
              "      <td>so this whole situation has been strange for u...</td>\n",
              "      <td>[(whole, a), (situation, n), (strange, a), (us...</td>\n",
              "      <td>whole situation strange us feel lucky 've la...</td>\n",
              "      <td>0.011815</td>\n",
              "      <td>Positive</td>\n",
              "      <td>-0.2075</td>\n",
              "      <td>Neutral</td>\n",
              "    </tr>\n",
              "  </tbody>\n",
              "</table>\n",
              "</div>"
            ],
            "text/plain": [
              "   upload_id  ... VaderAnalysis\n",
              "0         10  ...      Positive\n",
              "1        209  ...      Positive\n",
              "2        216  ...      Positive\n",
              "3        222  ...      Negative\n",
              "4        228  ...       Neutral\n",
              "\n",
              "[5 rows x 8 columns]"
            ]
          },
          "metadata": {},
          "execution_count": 51
        }
      ]
    },
    {
      "cell_type": "code",
      "metadata": {
        "colab": {
          "base_uri": "https://localhost:8080/"
        },
        "id": "jN1AFAj0nzqR",
        "outputId": "6dbf942c-4f3f-4408-cf83-fcf87fed9cff"
      },
      "source": [
        "vader_counts = df['VaderAnalysis'].value_counts()\n",
        "vader_counts"
      ],
      "execution_count": null,
      "outputs": [
        {
          "output_type": "execute_result",
          "data": {
            "text/plain": [
              "Positive    79\n",
              "Neutral     34\n",
              "Negative    27\n",
              "Name: VaderAnalysis, dtype: int64"
            ]
          },
          "metadata": {},
          "execution_count": 52
        }
      ]
    },
    {
      "cell_type": "markdown",
      "metadata": {
        "id": "HRp6JPVNn2tk"
      },
      "source": [
        "Sentiment Analysis using SentiWordNet\n",
        "\n",
        "SentiWordNet uses the WordNet database. It is important to obtain the POS, lemma of each word. We will then use the lemma, POS to obtain the synonym sets(synsets). We then obtain the positive, negative, objective scores for all the possible synsets or the very first synset and label the text.\n",
        "\n",
        "if positive score > negative score, the sentiment is positive\n",
        "if positive score < negative score, the sentiment is negative\n",
        "if positive score = negative score, the sentiment is neutral"
      ]
    },
    {
      "cell_type": "code",
      "metadata": {
        "id": "9loB8XzeoK9I"
      },
      "source": [
        "def sentiwordnetanalysis(pos_data):\n",
        "    sentiment = 0\n",
        "    tokens_count = 0\n",
        "    lemma = 0\n",
        "    for word, pos in pos_data:\n",
        "        #print(word +\" \"+ pos)\n",
        "        if not pos:\n",
        "            continue\n",
        "        lemma = wordnet_lemmatizer.lemmatize(word, pos=pos)\n",
        "        #print(lemma)\n",
        "        if not lemma:\n",
        "          continue\n",
        "        synsets = wordnet.synsets(lemma, pos=pos)\n",
        "        #print(synsets)\n",
        "        if not synsets:\n",
        "            continue\n",
        "            # Take the first sense, the most common\n",
        "        synset = synsets[0]\n",
        "        #print(synset)\n",
        "        swn_synset = swn.senti_synset(synset.name())\n",
        "        #print(swn_synset)\n",
        "        sentiment += swn_synset.pos_score() - swn_synset.neg_score()\n",
        "        tokens_count += 1\n",
        "        # print(swn_synset.pos_score(),swn_synset.neg_score(),swn_synset.obj_score())\n",
        "        if not tokens_count:\n",
        "            #print('test')\n",
        "            return 0\n",
        "        if sentiment>0:\n",
        "            return \"Positive\"\n",
        "        if sentiment==0:\n",
        "            return \"Neutral\"\n",
        "        else:\n",
        "            return \"Negative\""
      ],
      "execution_count": null,
      "outputs": []
    },
    {
      "cell_type": "code",
      "metadata": {
        "colab": {
          "base_uri": "https://localhost:8080/",
          "height": 202
        },
        "id": "VUFtL9O6oNEz",
        "outputId": "6526466a-2c7a-4069-f45b-d1274456603d"
      },
      "source": [
        "df['SWNAnalysis'] = df['POS tagged'].apply(sentiwordnetanalysis)\n",
        "df.head()"
      ],
      "execution_count": null,
      "outputs": [
        {
          "output_type": "execute_result",
          "data": {
            "text/html": [
              "<div>\n",
              "<style scoped>\n",
              "    .dataframe tbody tr th:only-of-type {\n",
              "        vertical-align: middle;\n",
              "    }\n",
              "\n",
              "    .dataframe tbody tr th {\n",
              "        vertical-align: top;\n",
              "    }\n",
              "\n",
              "    .dataframe thead th {\n",
              "        text-align: right;\n",
              "    }\n",
              "</style>\n",
              "<table border=\"1\" class=\"dataframe\">\n",
              "  <thead>\n",
              "    <tr style=\"text-align: right;\">\n",
              "      <th></th>\n",
              "      <th>upload_id</th>\n",
              "      <th>transcriptions</th>\n",
              "      <th>POS tagged</th>\n",
              "      <th>Lemma</th>\n",
              "      <th>Polarity</th>\n",
              "      <th>AnalysisTextBlob</th>\n",
              "      <th>VaderSentiment</th>\n",
              "      <th>VaderAnalysis</th>\n",
              "      <th>SWNAnalysis</th>\n",
              "    </tr>\n",
              "  </thead>\n",
              "  <tbody>\n",
              "    <tr>\n",
              "      <th>0</th>\n",
              "      <td>10</td>\n",
              "      <td>so high our experience so far has been a littl...</td>\n",
              "      <td>[(high, a), (experience, n), (far, r), (little...</td>\n",
              "      <td>high experience far little bit difficult tee...</td>\n",
              "      <td>-0.003229</td>\n",
              "      <td>Negative</td>\n",
              "      <td>0.9643</td>\n",
              "      <td>Positive</td>\n",
              "      <td>Negative</td>\n",
              "    </tr>\n",
              "    <tr>\n",
              "      <th>1</th>\n",
              "      <td>209</td>\n",
              "      <td>I'm not going to stay in my name for the anony...</td>\n",
              "      <td>[('m, v), (going, v), (stay, v), (name, n), (a...</td>\n",
              "      <td>'m go stay name anonymity mid-forties remote...</td>\n",
              "      <td>0.062419</td>\n",
              "      <td>Positive</td>\n",
              "      <td>0.6720</td>\n",
              "      <td>Positive</td>\n",
              "      <td>Neutral</td>\n",
              "    </tr>\n",
              "    <tr>\n",
              "      <th>2</th>\n",
              "      <td>216</td>\n",
              "      <td>so far I have been florentines now for about a...</td>\n",
              "      <td>[(far, r), (florentines, n), (month-and-a-half...</td>\n",
              "      <td>far florentine month-and-a-half 's tough see...</td>\n",
              "      <td>0.002892</td>\n",
              "      <td>Positive</td>\n",
              "      <td>0.9631</td>\n",
              "      <td>Positive</td>\n",
              "      <td>Neutral</td>\n",
              "    </tr>\n",
              "    <tr>\n",
              "      <th>3</th>\n",
              "      <td>222</td>\n",
              "      <td>it has actually been a very difficult. Trying ...</td>\n",
              "      <td>[(actually, r), (difficult, a), (., None), (Tr...</td>\n",
              "      <td>actually difficult . Trying get adjust chang...</td>\n",
              "      <td>0.192857</td>\n",
              "      <td>Positive</td>\n",
              "      <td>-0.5423</td>\n",
              "      <td>Negative</td>\n",
              "      <td>Positive</td>\n",
              "    </tr>\n",
              "    <tr>\n",
              "      <th>4</th>\n",
              "      <td>228</td>\n",
              "      <td>so this whole situation has been strange for u...</td>\n",
              "      <td>[(whole, a), (situation, n), (strange, a), (us...</td>\n",
              "      <td>whole situation strange us feel lucky 've la...</td>\n",
              "      <td>0.011815</td>\n",
              "      <td>Positive</td>\n",
              "      <td>-0.2075</td>\n",
              "      <td>Neutral</td>\n",
              "      <td>Positive</td>\n",
              "    </tr>\n",
              "  </tbody>\n",
              "</table>\n",
              "</div>"
            ],
            "text/plain": [
              "   upload_id  ... SWNAnalysis\n",
              "0         10  ...    Negative\n",
              "1        209  ...     Neutral\n",
              "2        216  ...     Neutral\n",
              "3        222  ...    Positive\n",
              "4        228  ...    Positive\n",
              "\n",
              "[5 rows x 9 columns]"
            ]
          },
          "metadata": {},
          "execution_count": 54
        }
      ]
    },
    {
      "cell_type": "code",
      "metadata": {
        "colab": {
          "base_uri": "https://localhost:8080/"
        },
        "id": "nJo5ODuetET_",
        "outputId": "5605d803-e24b-401c-a84c-37a3eddcc648"
      },
      "source": [
        "swn_counts= df['SWNAnalysis'].value_counts()\n",
        "swn_counts"
      ],
      "execution_count": null,
      "outputs": [
        {
          "output_type": "execute_result",
          "data": {
            "text/plain": [
              "Neutral     88\n",
              "Negative    29\n",
              "Positive    23\n",
              "Name: SWNAnalysis, dtype: int64"
            ]
          },
          "metadata": {},
          "execution_count": 55
        }
      ]
    },
    {
      "cell_type": "code",
      "metadata": {
        "colab": {
          "base_uri": "https://localhost:8080/"
        },
        "id": "Cmy9cX3dojMV",
        "outputId": "d632b49d-bff7-42d3-c606-0e49d84faa79"
      },
      "source": [
        "from spacytextblob.spacytextblob import SpacyTextBlob\n",
        "import spacy\n",
        "text = \"I had good day\"\n",
        "nlp = spacy.load('en_core_web_sm')\n",
        "doc = nlp(text)\n",
        "nlp.add_pipe(\"spacytextblob\")\n",
        "nlp.pipe_names"
      ],
      "execution_count": null,
      "outputs": [
        {
          "output_type": "execute_result",
          "data": {
            "text/plain": [
              "['tok2vec',\n",
              " 'tagger',\n",
              " 'parser',\n",
              " 'attribute_ruler',\n",
              " 'lemmatizer',\n",
              " 'ner',\n",
              " 'spacytextblob']"
            ]
          },
          "metadata": {},
          "execution_count": 56
        }
      ]
    },
    {
      "cell_type": "code",
      "metadata": {
        "colab": {
          "base_uri": "https://localhost:8080/",
          "height": 414
        },
        "id": "mUaDOSj_zUHB",
        "outputId": "4b45b817-0297-45c2-e088-f8bdde65ec3a"
      },
      "source": [
        "df"
      ],
      "execution_count": null,
      "outputs": [
        {
          "output_type": "execute_result",
          "data": {
            "text/html": [
              "<div>\n",
              "<style scoped>\n",
              "    .dataframe tbody tr th:only-of-type {\n",
              "        vertical-align: middle;\n",
              "    }\n",
              "\n",
              "    .dataframe tbody tr th {\n",
              "        vertical-align: top;\n",
              "    }\n",
              "\n",
              "    .dataframe thead th {\n",
              "        text-align: right;\n",
              "    }\n",
              "</style>\n",
              "<table border=\"1\" class=\"dataframe\">\n",
              "  <thead>\n",
              "    <tr style=\"text-align: right;\">\n",
              "      <th></th>\n",
              "      <th>upload_id</th>\n",
              "      <th>transcriptions</th>\n",
              "      <th>POS tagged</th>\n",
              "      <th>Lemma</th>\n",
              "      <th>Polarity</th>\n",
              "      <th>AnalysisTextBlob</th>\n",
              "      <th>VaderSentiment</th>\n",
              "      <th>VaderAnalysis</th>\n",
              "      <th>SWNAnalysis</th>\n",
              "    </tr>\n",
              "  </thead>\n",
              "  <tbody>\n",
              "    <tr>\n",
              "      <th>0</th>\n",
              "      <td>10</td>\n",
              "      <td>so high our experience so far has been a littl...</td>\n",
              "      <td>[(high, a), (experience, n), (far, r), (little...</td>\n",
              "      <td>high experience far little bit difficult tee...</td>\n",
              "      <td>-0.003229</td>\n",
              "      <td>Negative</td>\n",
              "      <td>0.9643</td>\n",
              "      <td>Positive</td>\n",
              "      <td>Negative</td>\n",
              "    </tr>\n",
              "    <tr>\n",
              "      <th>1</th>\n",
              "      <td>209</td>\n",
              "      <td>I'm not going to stay in my name for the anony...</td>\n",
              "      <td>[('m, v), (going, v), (stay, v), (name, n), (a...</td>\n",
              "      <td>'m go stay name anonymity mid-forties remote...</td>\n",
              "      <td>0.062419</td>\n",
              "      <td>Positive</td>\n",
              "      <td>0.6720</td>\n",
              "      <td>Positive</td>\n",
              "      <td>Neutral</td>\n",
              "    </tr>\n",
              "    <tr>\n",
              "      <th>2</th>\n",
              "      <td>216</td>\n",
              "      <td>so far I have been florentines now for about a...</td>\n",
              "      <td>[(far, r), (florentines, n), (month-and-a-half...</td>\n",
              "      <td>far florentine month-and-a-half 's tough see...</td>\n",
              "      <td>0.002892</td>\n",
              "      <td>Positive</td>\n",
              "      <td>0.9631</td>\n",
              "      <td>Positive</td>\n",
              "      <td>Neutral</td>\n",
              "    </tr>\n",
              "    <tr>\n",
              "      <th>3</th>\n",
              "      <td>222</td>\n",
              "      <td>it has actually been a very difficult. Trying ...</td>\n",
              "      <td>[(actually, r), (difficult, a), (., None), (Tr...</td>\n",
              "      <td>actually difficult . Trying get adjust chang...</td>\n",
              "      <td>0.192857</td>\n",
              "      <td>Positive</td>\n",
              "      <td>-0.5423</td>\n",
              "      <td>Negative</td>\n",
              "      <td>Positive</td>\n",
              "    </tr>\n",
              "    <tr>\n",
              "      <th>4</th>\n",
              "      <td>228</td>\n",
              "      <td>so this whole situation has been strange for u...</td>\n",
              "      <td>[(whole, a), (situation, n), (strange, a), (us...</td>\n",
              "      <td>whole situation strange us feel lucky 've la...</td>\n",
              "      <td>0.011815</td>\n",
              "      <td>Positive</td>\n",
              "      <td>-0.2075</td>\n",
              "      <td>Neutral</td>\n",
              "      <td>Positive</td>\n",
              "    </tr>\n",
              "    <tr>\n",
              "      <th>...</th>\n",
              "      <td>...</td>\n",
              "      <td>...</td>\n",
              "      <td>...</td>\n",
              "      <td>...</td>\n",
              "      <td>...</td>\n",
              "      <td>...</td>\n",
              "      <td>...</td>\n",
              "      <td>...</td>\n",
              "      <td>...</td>\n",
              "    </tr>\n",
              "    <tr>\n",
              "      <th>135</th>\n",
              "      <td>750</td>\n",
              "      <td>I am a parent of a 5th grader going into 6th g...</td>\n",
              "      <td>[(parent, n), (5th, a), (grader, n), (going, v...</td>\n",
              "      <td>parent 5th grader go 6th grade son autism 75...</td>\n",
              "      <td>0.152721</td>\n",
              "      <td>Positive</td>\n",
              "      <td>-0.3892</td>\n",
              "      <td>Neutral</td>\n",
              "      <td>Neutral</td>\n",
              "    </tr>\n",
              "    <tr>\n",
              "      <th>136</th>\n",
              "      <td>752</td>\n",
              "      <td>over 19 really impacted us because and it's no...</td>\n",
              "      <td>[(19, None), (really, r), (impacted, a), (us, ...</td>\n",
              "      <td>19 really impacted us 's shutdown school out...</td>\n",
              "      <td>0.055411</td>\n",
              "      <td>Positive</td>\n",
              "      <td>0.4767</td>\n",
              "      <td>Neutral</td>\n",
              "      <td>Positive</td>\n",
              "    </tr>\n",
              "    <tr>\n",
              "      <th>137</th>\n",
              "      <td>754</td>\n",
              "      <td>so today is May 20th and has been over for abo...</td>\n",
              "      <td>[(today, n), (May, n), (20th, None), (two, Non...</td>\n",
              "      <td>today May 20th two month two make knock two ...</td>\n",
              "      <td>0.092363</td>\n",
              "      <td>Positive</td>\n",
              "      <td>0.9741</td>\n",
              "      <td>Positive</td>\n",
              "      <td>Positive</td>\n",
              "    </tr>\n",
              "    <tr>\n",
              "      <th>138</th>\n",
              "      <td>756</td>\n",
              "      <td>hi my name is divyansh not trying and I live i...</td>\n",
              "      <td>[(hi, n), (name, n), (divyansh, a), (trying, v...</td>\n",
              "      <td>hi name divyansh try live New York City want...</td>\n",
              "      <td>0.179040</td>\n",
              "      <td>Positive</td>\n",
              "      <td>0.9858</td>\n",
              "      <td>Positive</td>\n",
              "      <td>Neutral</td>\n",
              "    </tr>\n",
              "    <tr>\n",
              "      <th>139</th>\n",
              "      <td>758</td>\n",
              "      <td>hello I am sharing some of my experience with ...</td>\n",
              "      <td>[(hello, n), (sharing, v), (experience, n), (C...</td>\n",
              "      <td>hello share experience Colvin . good time re...</td>\n",
              "      <td>0.550000</td>\n",
              "      <td>Positive</td>\n",
              "      <td>0.9169</td>\n",
              "      <td>Positive</td>\n",
              "      <td>Neutral</td>\n",
              "    </tr>\n",
              "  </tbody>\n",
              "</table>\n",
              "<p>140 rows × 9 columns</p>\n",
              "</div>"
            ],
            "text/plain": [
              "     upload_id  ... SWNAnalysis\n",
              "0           10  ...    Negative\n",
              "1          209  ...     Neutral\n",
              "2          216  ...     Neutral\n",
              "3          222  ...    Positive\n",
              "4          228  ...    Positive\n",
              "..         ...  ...         ...\n",
              "135        750  ...     Neutral\n",
              "136        752  ...    Positive\n",
              "137        754  ...    Positive\n",
              "138        756  ...     Neutral\n",
              "139        758  ...     Neutral\n",
              "\n",
              "[140 rows x 9 columns]"
            ]
          },
          "metadata": {},
          "execution_count": 57
        }
      ]
    },
    {
      "cell_type": "code",
      "metadata": {
        "colab": {
          "base_uri": "https://localhost:8080/"
        },
        "id": "fgytTyF_vKx2",
        "outputId": "7b7900ad-92b1-4e28-9542-c219625a0673"
      },
      "source": [
        "doc = nlp(text)\n",
        "print(doc._.polarity)\n",
        "print(doc._.subjectivity) \n",
        "print(doc._.assessments)\n",
        "df['AnalysiSpacyTextBlob'] = 'test'\n",
        "\n",
        "  \n",
        " \n",
        " "
      ],
      "execution_count": null,
      "outputs": [
        {
          "output_type": "stream",
          "name": "stdout",
          "text": [
            "0.7\n",
            "0.6000000000000001\n",
            "[(['good'], 0.7, 0.6000000000000001, None)]\n"
          ]
        }
      ]
    },
    {
      "cell_type": "code",
      "metadata": {
        "colab": {
          "base_uri": "https://localhost:8080/"
        },
        "id": "WELyaRiAGCIl",
        "outputId": "36531715-ffd4-4b8e-c0a2-c8a7390115a7"
      },
      "source": [
        "for transcriptions,i in zip(df.transcriptions,df.index):\n",
        "  doc = nlp(transcriptions)\n",
        "  df['AnalysiSpacyTextBlob'][i]=analysis(doc._.polarity)"
      ],
      "execution_count": null,
      "outputs": [
        {
          "output_type": "stream",
          "name": "stderr",
          "text": [
            "/usr/local/lib/python3.7/dist-packages/ipykernel_launcher.py:3: SettingWithCopyWarning: \n",
            "A value is trying to be set on a copy of a slice from a DataFrame\n",
            "\n",
            "See the caveats in the documentation: https://pandas.pydata.org/pandas-docs/stable/user_guide/indexing.html#returning-a-view-versus-a-copy\n",
            "  This is separate from the ipykernel package so we can avoid doing imports until\n"
          ]
        }
      ]
    },
    {
      "cell_type": "code",
      "metadata": {
        "colab": {
          "base_uri": "https://localhost:8080/",
          "height": 414
        },
        "id": "jxR1cBtfwiNm",
        "outputId": "f90ea333-ac93-4179-f6fa-7bf30bc66035"
      },
      "source": [
        "df"
      ],
      "execution_count": null,
      "outputs": [
        {
          "output_type": "execute_result",
          "data": {
            "text/html": [
              "<div>\n",
              "<style scoped>\n",
              "    .dataframe tbody tr th:only-of-type {\n",
              "        vertical-align: middle;\n",
              "    }\n",
              "\n",
              "    .dataframe tbody tr th {\n",
              "        vertical-align: top;\n",
              "    }\n",
              "\n",
              "    .dataframe thead th {\n",
              "        text-align: right;\n",
              "    }\n",
              "</style>\n",
              "<table border=\"1\" class=\"dataframe\">\n",
              "  <thead>\n",
              "    <tr style=\"text-align: right;\">\n",
              "      <th></th>\n",
              "      <th>upload_id</th>\n",
              "      <th>transcriptions</th>\n",
              "      <th>POS tagged</th>\n",
              "      <th>Lemma</th>\n",
              "      <th>Polarity</th>\n",
              "      <th>AnalysisTextBlob</th>\n",
              "      <th>VaderSentiment</th>\n",
              "      <th>VaderAnalysis</th>\n",
              "      <th>SWNAnalysis</th>\n",
              "      <th>AnalysiSpacyTextBlob</th>\n",
              "    </tr>\n",
              "  </thead>\n",
              "  <tbody>\n",
              "    <tr>\n",
              "      <th>0</th>\n",
              "      <td>10</td>\n",
              "      <td>so high our experience so far has been a littl...</td>\n",
              "      <td>[(high, a), (experience, n), (far, r), (little...</td>\n",
              "      <td>high experience far little bit difficult tee...</td>\n",
              "      <td>-0.003229</td>\n",
              "      <td>Negative</td>\n",
              "      <td>0.9643</td>\n",
              "      <td>Positive</td>\n",
              "      <td>Negative</td>\n",
              "      <td>Positive</td>\n",
              "    </tr>\n",
              "    <tr>\n",
              "      <th>1</th>\n",
              "      <td>209</td>\n",
              "      <td>I'm not going to stay in my name for the anony...</td>\n",
              "      <td>[('m, v), (going, v), (stay, v), (name, n), (a...</td>\n",
              "      <td>'m go stay name anonymity mid-forties remote...</td>\n",
              "      <td>0.062419</td>\n",
              "      <td>Positive</td>\n",
              "      <td>0.6720</td>\n",
              "      <td>Positive</td>\n",
              "      <td>Neutral</td>\n",
              "      <td>Negative</td>\n",
              "    </tr>\n",
              "    <tr>\n",
              "      <th>2</th>\n",
              "      <td>216</td>\n",
              "      <td>so far I have been florentines now for about a...</td>\n",
              "      <td>[(far, r), (florentines, n), (month-and-a-half...</td>\n",
              "      <td>far florentine month-and-a-half 's tough see...</td>\n",
              "      <td>0.002892</td>\n",
              "      <td>Positive</td>\n",
              "      <td>0.9631</td>\n",
              "      <td>Positive</td>\n",
              "      <td>Neutral</td>\n",
              "      <td>Positive</td>\n",
              "    </tr>\n",
              "    <tr>\n",
              "      <th>3</th>\n",
              "      <td>222</td>\n",
              "      <td>it has actually been a very difficult. Trying ...</td>\n",
              "      <td>[(actually, r), (difficult, a), (., None), (Tr...</td>\n",
              "      <td>actually difficult . Trying get adjust chang...</td>\n",
              "      <td>0.192857</td>\n",
              "      <td>Positive</td>\n",
              "      <td>-0.5423</td>\n",
              "      <td>Negative</td>\n",
              "      <td>Positive</td>\n",
              "      <td>Positive</td>\n",
              "    </tr>\n",
              "    <tr>\n",
              "      <th>4</th>\n",
              "      <td>228</td>\n",
              "      <td>so this whole situation has been strange for u...</td>\n",
              "      <td>[(whole, a), (situation, n), (strange, a), (us...</td>\n",
              "      <td>whole situation strange us feel lucky 've la...</td>\n",
              "      <td>0.011815</td>\n",
              "      <td>Positive</td>\n",
              "      <td>-0.2075</td>\n",
              "      <td>Neutral</td>\n",
              "      <td>Positive</td>\n",
              "      <td>Positive</td>\n",
              "    </tr>\n",
              "    <tr>\n",
              "      <th>...</th>\n",
              "      <td>...</td>\n",
              "      <td>...</td>\n",
              "      <td>...</td>\n",
              "      <td>...</td>\n",
              "      <td>...</td>\n",
              "      <td>...</td>\n",
              "      <td>...</td>\n",
              "      <td>...</td>\n",
              "      <td>...</td>\n",
              "      <td>...</td>\n",
              "    </tr>\n",
              "    <tr>\n",
              "      <th>135</th>\n",
              "      <td>750</td>\n",
              "      <td>I am a parent of a 5th grader going into 6th g...</td>\n",
              "      <td>[(parent, n), (5th, a), (grader, n), (going, v...</td>\n",
              "      <td>parent 5th grader go 6th grade son autism 75...</td>\n",
              "      <td>0.152721</td>\n",
              "      <td>Positive</td>\n",
              "      <td>-0.3892</td>\n",
              "      <td>Neutral</td>\n",
              "      <td>Neutral</td>\n",
              "      <td>Positive</td>\n",
              "    </tr>\n",
              "    <tr>\n",
              "      <th>136</th>\n",
              "      <td>752</td>\n",
              "      <td>over 19 really impacted us because and it's no...</td>\n",
              "      <td>[(19, None), (really, r), (impacted, a), (us, ...</td>\n",
              "      <td>19 really impacted us 's shutdown school out...</td>\n",
              "      <td>0.055411</td>\n",
              "      <td>Positive</td>\n",
              "      <td>0.4767</td>\n",
              "      <td>Neutral</td>\n",
              "      <td>Positive</td>\n",
              "      <td>Negative</td>\n",
              "    </tr>\n",
              "    <tr>\n",
              "      <th>137</th>\n",
              "      <td>754</td>\n",
              "      <td>so today is May 20th and has been over for abo...</td>\n",
              "      <td>[(today, n), (May, n), (20th, None), (two, Non...</td>\n",
              "      <td>today May 20th two month two make knock two ...</td>\n",
              "      <td>0.092363</td>\n",
              "      <td>Positive</td>\n",
              "      <td>0.9741</td>\n",
              "      <td>Positive</td>\n",
              "      <td>Positive</td>\n",
              "      <td>Positive</td>\n",
              "    </tr>\n",
              "    <tr>\n",
              "      <th>138</th>\n",
              "      <td>756</td>\n",
              "      <td>hi my name is divyansh not trying and I live i...</td>\n",
              "      <td>[(hi, n), (name, n), (divyansh, a), (trying, v...</td>\n",
              "      <td>hi name divyansh try live New York City want...</td>\n",
              "      <td>0.179040</td>\n",
              "      <td>Positive</td>\n",
              "      <td>0.9858</td>\n",
              "      <td>Positive</td>\n",
              "      <td>Neutral</td>\n",
              "      <td>Positive</td>\n",
              "    </tr>\n",
              "    <tr>\n",
              "      <th>139</th>\n",
              "      <td>758</td>\n",
              "      <td>hello I am sharing some of my experience with ...</td>\n",
              "      <td>[(hello, n), (sharing, v), (experience, n), (C...</td>\n",
              "      <td>hello share experience Colvin . good time re...</td>\n",
              "      <td>0.550000</td>\n",
              "      <td>Positive</td>\n",
              "      <td>0.9169</td>\n",
              "      <td>Positive</td>\n",
              "      <td>Neutral</td>\n",
              "      <td>Positive</td>\n",
              "    </tr>\n",
              "  </tbody>\n",
              "</table>\n",
              "<p>140 rows × 10 columns</p>\n",
              "</div>"
            ],
            "text/plain": [
              "     upload_id  ... AnalysiSpacyTextBlob\n",
              "0           10  ...             Positive\n",
              "1          209  ...             Negative\n",
              "2          216  ...             Positive\n",
              "3          222  ...             Positive\n",
              "4          228  ...             Positive\n",
              "..         ...  ...                  ...\n",
              "135        750  ...             Positive\n",
              "136        752  ...             Negative\n",
              "137        754  ...             Positive\n",
              "138        756  ...             Positive\n",
              "139        758  ...             Positive\n",
              "\n",
              "[140 rows x 10 columns]"
            ]
          },
          "metadata": {},
          "execution_count": 62
        }
      ]
    },
    {
      "cell_type": "code",
      "metadata": {
        "colab": {
          "base_uri": "https://localhost:8080/"
        },
        "id": "S5ewMq2HxEy1",
        "outputId": "ad69f9e6-e809-4948-d1c5-58a1631c4402"
      },
      "source": [
        "spacy_counts= df['AnalysiSpacyTextBlob'].value_counts()\n",
        "spacy_counts"
      ],
      "execution_count": null,
      "outputs": [
        {
          "output_type": "execute_result",
          "data": {
            "text/plain": [
              "Positive    102\n",
              "Negative     35\n",
              "Neutral       3\n",
              "Name: AnalysiSpacyTextBlob, dtype: int64"
            ]
          },
          "metadata": {},
          "execution_count": 63
        }
      ]
    },
    {
      "cell_type": "code",
      "metadata": {
        "colab": {
          "base_uri": "https://localhost:8080/",
          "height": 450
        },
        "id": "1r2Kn3GztOdI",
        "outputId": "5edfd12c-7d63-4b11-a4be-773dbb3a26fa"
      },
      "source": [
        "plt.figure(figsize=(20,10))\n",
        "plt.subplot(1,4,1)\n",
        "plt.title(\"TextBlob results\")\n",
        "plt.pie(tb_counts.values, labels = tb_counts.index, explode = (0, 0, 0.25), autopct='%1.1f%%', shadow=False)\n",
        "plt.subplot(1,4,2)\n",
        "plt.title(\"VADER results\")\n",
        "plt.pie(vader_counts.values, labels = vader_counts.index, explode = (0, 0, 0.25), autopct='%1.1f%%', shadow=False)\n",
        "plt.subplot(1,4,3)\n",
        "plt.title(\"SentiWordNet results\")\n",
        "plt.pie(swn_counts.values, labels = swn_counts.index, explode = (0, 0, 0.25), autopct='%1.1f%%', shadow=False)\n",
        "plt.subplot(1,4,4)\n",
        "plt.title(\"spacy textblob results\")\n",
        "plt.pie(spacy_counts.values, labels = spacy_counts.index, explode = (0, 0, 0.25), autopct='%1.1f%%', shadow=False)"
      ],
      "execution_count": null,
      "outputs": [
        {
          "output_type": "execute_result",
          "data": {
            "text/plain": [
              "([<matplotlib.patches.Wedge at 0x7f07af1ca3d0>,\n",
              "  <matplotlib.patches.Wedge at 0x7f07af1ca350>,\n",
              "  <matplotlib.patches.Wedge at 0x7f07af1d62d0>],\n",
              " [Text(-0.7237325630784132, 0.828378643580308, 'Positive'),\n",
              "  Text(0.6663689733074856, -0.8751870608122173, 'Negative'),\n",
              "  Text(1.3469420737059732, -0.09081327039950286, 'Neutral')],\n",
              " [Text(-0.39476321622458893, 0.45184289649834974, '72.9%'),\n",
              "  Text(0.3634739854404467, -0.4773747604430275, '25.0%'),\n",
              "  Text(0.8480746390000571, -0.05717872580709439, '2.1%')])"
            ]
          },
          "metadata": {},
          "execution_count": 65
        },
        {
          "output_type": "display_data",
          "data": {
            "image/png": "[encoded data removed]",
            "text/plain": [
              "<Figure size 1440x720 with 4 Axes>"
            ]
          },
          "metadata": {}
        }
      ]
    },
    {
      "cell_type": "markdown",
      "metadata": {
        "id": "GKmJ1OXZODat"
      },
      "source": [
        "Using NLP - SpaCy to parse text. It is open source software python library for information extractsion and preprocessing text for modelling  \n",
        "Trying to understand what are top 10 used adjectives in transcripts\n",
        "\n"
      ]
    },
    {
      "cell_type": "code",
      "metadata": {
        "id": "MIEvn76KoiwF"
      },
      "source": [
        "# import spacy\n",
        "import spacy\n",
        "\n",
        "# load english language model\n",
        "nlp = spacy.load('en_core_web_sm',disable=['ner','textcat'])\n",
        "# create spacy \n",
        "adj={}\n",
        "\n",
        "for ttext in df.transcriptions:\n",
        "  doc = nlp(ttext)\n",
        "  for token in doc:\n",
        "    #print(token.text,'->',token.pos_)\n",
        "    if (token.pos_ in ('ADJ') and token.text not in ('other','able')):\n",
        "      #print(token.text,'->',token.pos_)\n",
        "      if token.text in adj.keys():\n",
        "        #print(token.text,'->',token.pos_)\n",
        "        adj[token.text] = adj[token.text] +1\n",
        "      else:\n",
        "        adj[token.text]=1   \n",
        "\n"
      ],
      "execution_count": null,
      "outputs": []
    },
    {
      "cell_type": "code",
      "metadata": {
        "id": "aU0WUaJ7KsZR"
      },
      "source": [
        "# N largest values in dictionary\n",
        "# Using sorted() + itemgetter() + items()\n",
        "from operator import itemgetter\n",
        "N=20\n",
        "resplt = dict(sorted(adj.items(), key = itemgetter(1), reverse = True)[:N])\n",
        "res = dict(sorted(adj.items(), key = itemgetter(1), reverse = True))\n",
        "\n",
        "  \n"
      ],
      "execution_count": null,
      "outputs": []
    },
    {
      "cell_type": "code",
      "metadata": {
        "colab": {
          "base_uri": "https://localhost:8080/",
          "height": 264
        },
        "id": "6iaDmEVsHWKK",
        "outputId": "bb75db9f-432b-4ef5-8a9b-aba8f1857280"
      },
      "source": [
        "names = list(resplt.keys())\n",
        "values = list(resplt.values())\n",
        "\n",
        "#tick_label does the some work as plt.xticks()\n",
        "#plt.bar(range(len(res)), values, tick_label = names)\n",
        "# Create horizontal bars\n",
        "plt.barh(y=names, width=values)\n",
        "plt.savefig('bar.png')\n",
        "plt.show()"
      ],
      "execution_count": null,
      "outputs": [
        {
          "output_type": "display_data",
          "data": {
            "image/png": "[encoded data removed]",
            "text/plain": [
              "<Figure size 432x288 with 1 Axes>"
            ]
          },
          "metadata": {
            "needs_background": "light"
          }
        }
      ]
    },
    {
      "cell_type": "code",
      "metadata": {
        "id": "-lTo-Dpel1oJ"
      },
      "source": [
        ""
      ],
      "execution_count": null,
      "outputs": []
    }
  ]
}